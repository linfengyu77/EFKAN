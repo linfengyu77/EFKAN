{
 "cells": [
  {
   "cell_type": "code",
   "execution_count": 3,
   "metadata": {},
   "outputs": [],
   "source": [
    "import os\n",
    "import numpy as np\n",
    "import torch\n",
    "from torchinfo import summary\n",
    "import yaml\n",
    "from timeit import default_timer\n",
    "import sys\n",
    "sys.path.append(\"../scripts/\") \n",
    "from utilities import *\n",
    "# from Deeponet import *\n",
    "from efno_mlp import *\n",
    "# from Kaonet import *\n",
    "# from ChebyKAN import *\n",
    "# from ConvKAN import *\n",
    "# from Adam import Adam\n",
    "\n",
    "torch.manual_seed(0)\n",
    "np.random.seed(0)\n",
    "\n"
   ]
  },
  {
   "cell_type": "code",
   "execution_count": 5,
   "metadata": {},
   "outputs": [
    {
     "name": "stdout",
     "output_type": "stream",
     "text": [
      "begin to read data\n",
      "Data Loading with 9.750 s\n",
      "Training...\n"
     ]
    }
   ],
   "source": [
    "\n",
    "if __name__ == '__main__':\n",
    "    item = 'random_smooth_efno_layer6_super'\n",
    "    yml = './config.yml'\n",
    "    main(yml, item)"
   ]
  }
 ],
 "metadata": {
  "kernelspec": {
   "display_name": "torch_radon",
   "language": "python",
   "name": "python3"
  },
  "language_info": {
   "codemirror_mode": {
    "name": "ipython",
    "version": 3
   },
   "file_extension": ".py",
   "mimetype": "text/x-python",
   "name": "python",
   "nbconvert_exporter": "python",
   "pygments_lexer": "ipython3",
   "version": "3.7.16"
  },
  "orig_nbformat": 4,
  "vscode": {
   "interpreter": {
    "hash": "ae4de274da4e0af90ed2c2e37788b5865a64d4560f013be83d2c9586266bae90"
   }
  }
 },
 "nbformat": 4,
 "nbformat_minor": 2
}
