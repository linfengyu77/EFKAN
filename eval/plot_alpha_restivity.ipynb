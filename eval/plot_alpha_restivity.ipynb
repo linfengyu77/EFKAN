{
 "cells": [
  {
   "cell_type": "code",
   "execution_count": 1,
   "id": "f7601047-a259-41a1-828a-1a6500f72cda",
   "metadata": {},
   "outputs": [],
   "source": [
    "### 绘制不同光滑度的电阻率模型"
   ]
  },
  {
   "cell_type": "code",
   "execution_count": 2,
   "id": "5e0eeea3-f02c-4213-9163-1e737e8891fb",
   "metadata": {},
   "outputs": [],
   "source": [
    "import os\n",
    "import numpy as np\n",
    "import matplotlib.pyplot as plt\n",
    "import matplotlib.colors as colors\n",
    "import matplotlib.gridspec as gridspec\n",
    "\n",
    "import scipy.io as scio"
   ]
  },
  {
   "cell_type": "code",
   "execution_count": 3,
   "id": "e60ef28c-58cd-4e9c-bca4-8d26fc865bec",
   "metadata": {},
   "outputs": [],
   "source": [
    "plt.rcParams['font.family']       = 'arial' # 'Times New Roman' #\n",
    "# plt.rcParams['axes.linewidth']    = 1\n",
    "plt.rcParams['xtick.major.size']  = 2.\n",
    "plt.rcParams['ytick.major.size']  = 2.5\n",
    "plt.rcParams['xtick.minor.size']  = 1.5\n",
    "plt.rcParams['ytick.minor.size']  = 1.5\n",
    "plt.rcParams['xtick.major.width'] = 0.5\n",
    "plt.rcParams['ytick.major.width'] = 0.5\n",
    "plt.rcParams['xtick.minor.width'] = 0.5\n",
    "plt.rcParams['ytick.minor.width'] = 0.5\n",
    "plt.rcParams['lines.linewidth']   = 1.5\n",
    "plt.rcParams['lines.markersize']  = 3.5\n",
    "\n",
    "plt.rcParams['font.size']    = 10\n",
    "# plt.rcParams['figure.titlesize'] = 2\n",
    "\n",
    "plt.rcParams['xtick.labelsize'] = 6\n",
    "plt.rcParams['ytick.labelsize'] = 6\n",
    "plt.rcParams['axes.labelsize']  = 7 # x, y label size\n",
    "plt.rcParams['axes.titlesize'] = 7 # font size of the axes title\n",
    "# plt.rcParams['legend.fontsize'] = 8\n",
    "# plt.rcParams['legend.title_fontsize'] = 8\n",
    "\n",
    "plt.rcParams[\"savefig.bbox\"] = 'tight'\n",
    "plt.rcParams[\"savefig.pad_inches\"] = 0.1\n",
    "plt.rcParams['image.cmap'] = 'jet_r'\n",
    "plt.rcParams['figure.dpi'] = 150"
   ]
  },
  {
   "cell_type": "code",
   "execution_count": 9,
   "id": "28594507-22ac-4b00-98bb-bfcc667432e8",
   "metadata": {},
   "outputs": [
    {
     "data": {
      "text/plain": [
       "1000"
      ]
     },
     "execution_count": 9,
     "metadata": {},
     "output_type": "execute_result"
    }
   ],
   "source": [
    "alpha_3 = scio.loadmat('/home/fengw666/EFNO/data/test_random_block.mat')\n",
    "len(alpha_3['sig'])"
   ]
  },
  {
   "cell_type": "code",
   "execution_count": null,
   "id": "6b2e7925-3af7-4393-8b34-59dcffa95a3b",
   "metadata": {},
   "outputs": [],
   "source": [
    "alpha_3 = scio.loadmat('../../Data/data/test_alpha64_3_0.mat')\n",
    "alpha_4 = scio.loadmat('../../Data/data/test_alpha64_4_0.mat')\n",
    "alpha_5 = scio.loadmat('../../Data/data/test_alpha64_5_0.mat')\n",
    "alpha_6 = scio.loadmat('../../Data/data/test_alpha64_6_0.mat')\n",
    "alpha_7 = scio.loadmat('../../Data/data/test_alpha64_7_0.mat')\n"
   ]
  },
  {
   "cell_type": "code",
   "execution_count": 11,
   "id": "fd1ff260-2544-40d5-a8c0-c4ebc17f0f02",
   "metadata": {},
   "outputs": [],
   "source": [
    "yn = alpha_7['yn'][0]\n",
    "zn = alpha_7['zn'][0]"
   ]
  },
  {
   "cell_type": "code",
   "execution_count": 12,
   "id": "559b4576-6fe6-4e4d-b984-e7365eea3d42",
   "metadata": {},
   "outputs": [],
   "source": [
    "idx = 2\n",
    "sig_3 = -1*alpha_3['sig'][idx,...]\n",
    "sig_4 = -1*alpha_4['sig'][idx,...]\n",
    "sig_5 = -1*alpha_5['sig'][idx,...]\n",
    "sig_6 = -1*alpha_6['sig'][idx,...]\n",
    "sig_7 = -1*alpha_7['sig'][idx,...]"
   ]
  },
  {
   "cell_type": "code",
   "execution_count": null,
   "id": "e0139a81-c9b3-4a80-817d-d5bc8e522ae2",
   "metadata": {},
   "outputs": [],
   "source": [
    "cm=1/2.54\n",
    "n_bins = 5 # number of ticks in colorbar\n",
    "text_x_pos     = -75 # text location (value is relative to axis data in map)\n",
    "text_y_pos     = 10 \n",
    "rotation       = 0  # text rotation\n",
    "text_size = 10\n",
    "labelpad  = 10\n",
    "loc = 'right'\n",
    "pad = 0.03\n",
    "title_label =[r\"$\\beta=3$\",r\"$\\beta=4$\",r\"$\\beta=5$\",r\"$\\beta=6$\",r\"$\\beta=7$\"]\n",
    "y_ticks = [0,25,50,75]\n",
    "\n",
    "figsize  = (14*cm,10*cm)#(10*n_column,6*n_row)\n",
    "fig     = plt.figure(figsize=figsize)\n",
    "gs      = gridspec.GridSpec(2, 3)\n",
    "ax0 = plt.subplot(gs[0, 0])\n",
    "ax1 = plt.subplot(gs[0,1])\n",
    "ax2 = plt.subplot(gs[0,2])\n",
    "ax3 = plt.subplot(gs[1,0])\n",
    "ax4 = plt.subplot(gs[1,1])\n",
    "ax = [ax0,ax1,ax2,ax3,ax4]\n",
    "\n",
    "cof =[sig_3,sig_4,sig_5,sig_6,sig_7]\n",
    "for j in range(5):\n",
    "    h=ax[j].pcolormesh(yn/1e3,zn/1e3,cof[j], vmin=0,vmax=4,shading='flat')#,edgecolors='k')\n",
    "    if j>1:\n",
    "        ax[j].set_xlabel(r'y$\\,$(km)')\n",
    "    ax[j].set_yticks([])\n",
    "#     ax[j].set_title(title_label[j])\n",
    "    ax[j].text(text_x_pos,text_y_pos,title_label[j], horizontalalignment='center',fontsize=8)\n",
    "#                              verticalalignment='center',rotation=rotation,)\n",
    "    ax[j].invert_yaxis()\n",
    "ax[0].set_ylabel(r'z$\\,$(km)')\n",
    "ax[0].set_yticks(y_ticks)  \n",
    "ax[3].set_ylabel(r'z$\\,$(km)')\n",
    "ax[3].set_yticks(y_ticks)  \n",
    "cbar = fig.colorbar(h,ax=[ax[ii] for ii in range(5)],\n",
    "                    fraction=0.012,anchor=(0.0,0.06))#,panchor=(0.1,0.5))\n",
    "cbar.set_label(r\"$\\log_{10}\\,\\rho\\,(\\Omega m)$\")#,labelpad=labelpad)\n",
    "cbar.ax.locator_params(nbins=n_bins)\n",
    "plt.subplots_adjust(right=1.05,)#调整子图间距\n",
    "\n",
    "# plt.savefig(\"../imags/resisitivety_r\"+str(rho_id)+\".jpg\",dpi=300,bbox_inches='tight',pad_inches=0.05)\n",
    "# plt.savefig(\"../imags/all_resisitivety.pdf\",dpi=300,bbox_inches='tight',pad_inches=0.05)\n",
    "# plt.savefig(\"../imags/all_beta.jpg\",dpi=300,bbox_inches='tight',pad_inches=0.05)\n",
    "# plt.savefig(\"../imags/all_beta.pdf\",dpi=300,bbox_inches='tight',pad_inches=0.05)\n",
    "plt.show()\n"
   ]
  }
 ],
 "metadata": {
  "kernelspec": {
   "display_name": "torch_radon",
   "language": "python",
   "name": "python3"
  },
  "language_info": {
   "codemirror_mode": {
    "name": "ipython",
    "version": 3
   },
   "file_extension": ".py",
   "mimetype": "text/x-python",
   "name": "python",
   "nbconvert_exporter": "python",
   "pygments_lexer": "ipython3",
   "version": "3.7.16"
  }
 },
 "nbformat": 4,
 "nbformat_minor": 5
}
