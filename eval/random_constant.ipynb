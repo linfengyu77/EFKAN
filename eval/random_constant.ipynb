{
 "cells": [
  {
   "attachments": {},
   "cell_type": "markdown",
   "id": "5475c7b7",
   "metadata": {},
   "source": [
    "### Comparsion"
   ]
  },
  {
   "cell_type": "code",
   "execution_count": null,
   "id": "3b7d5bd3",
   "metadata": {},
   "outputs": [],
   "source": [
    "import sys\n",
    "import os\n",
    "import numpy as np\n",
    "sys.path.append(\"../scripts/\")\n",
    "sys.path.append(\"../run/\")\n",
    "sys.path.append(\"../model/\")\n",
    "from mlpkan_testing import KAN_Testing\n",
    "from efno_testing import EFNO_Testing\n",
    "from utilities import plot_1d"
   ]
  },
  {
   "cell_type": "code",
   "execution_count": null,
   "id": "5b4f8a8c",
   "metadata": {},
   "outputs": [],
   "source": [
    "kan_item = 'random_smooth_mlpkan_layer6_super'\n",
    "efno_item = 'random_smooth_efno_layer6_super'\n",
    "# yml = '../run/smalldata_config.yml'\n",
    "yml = '../run/config.yml'\n",
    "rho_id = 1   # 2 for small data\n",
    "fre1 = 0.049       \n",
    "fre2 = 10\n",
    "# fre1 = 0.005           # diff fre\n",
    "# fre2 = 12.589          # diff fre\n",
    "save_path='./super_figs'\n",
    "refiles = False\n",
    "# refiles = True\n",
    "prefix='smooth'\n",
    "# prefix='block'\n",
    "# prefix='block_diff_fre'\n",
    "if refiles:\n",
    "    if os.path.exists(save_path):\n",
    "        for filename in os.listdir(save_path):\n",
    "            file_path = os.path.join(save_path, filename)\n",
    "            if os.path.isfile(file_path) or os.path.islink(file_path):\n",
    "                os.remove(file_path)\n",
    "            elif os.path.isdir(file_path):\n",
    "                shutil.rmtree(file_path)\n",
    "        print(f\"所有文件和子文件夹已从 {save_path} 中删除。\")\n",
    "    else:\n",
    "        print(f\"文件夹 {save_path} 不存在。\")"
   ]
  },
  {
   "cell_type": "code",
   "execution_count": null,
   "id": "8937ff43",
   "metadata": {},
   "outputs": [],
   "source": [
    "kan_test = KAN_Testing(yml, kan_item)\n",
    "efno_test = EFNO_Testing(yml, efno_item)\n",
    "kan_preds, _ = kan_test.evaluate(rho_id=rho_id, save_path=save_path, prefix=prefix)\n",
    "efno_preds, _ = efno_test.evaluate(rho_id=rho_id, save_path=save_path, prefix=prefix)\n",
    "assert kan_test.freq.all() == efno_test.freq.all()\n",
    "assert kan_test.ry.all() == efno_test.ry.all()"
   ]
  },
  {
   "cell_type": "code",
   "execution_count": null,
   "id": "4ad1e46e",
   "metadata": {},
   "outputs": [],
   "source": [
    "fre_list = np.round(kan_test.freq, 3)\n",
    "ry       = kan_test.ry\n",
    "plot_1d(fre1, fre_list, ry, efno_preds, kan_preds, save_path=save_path, prefix=prefix)"
   ]
  },
  {
   "cell_type": "code",
   "execution_count": null,
   "id": "2ae339a3",
   "metadata": {},
   "outputs": [],
   "source": [
    "plot_1d(fre2, fre_list, ry, efno_preds, kan_preds, save_path=save_path, prefix=prefix)"
   ]
  }
 ],
 "metadata": {
  "kernelspec": {
   "display_name": "base",
   "language": "python",
   "name": "python3"
  },
  "language_info": {
   "codemirror_mode": {
    "name": "ipython",
    "version": 3
   },
   "file_extension": ".py",
   "mimetype": "text/x-python",
   "name": "python",
   "nbconvert_exporter": "python",
   "pygments_lexer": "ipython3",
   "version": "3.10.10"
  },
  "vscode": {
   "interpreter": {
    "hash": "50bfc351199d956b4024fbbd9aca69be4a9c56b71e449cee70b952cf93a37264"
   }
  }
 },
 "nbformat": 4,
 "nbformat_minor": 5
}
