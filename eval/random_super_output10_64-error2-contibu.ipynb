{
 "cells": [
  {
   "cell_type": "markdown",
   "id": "78f44add-9f34-402e-b08c-c2ebde4d020a",
   "metadata": {},
   "source": [
    "### 对比误差(继续训练）\n",
    "1. 全局误差\n",
    "2. 由训练点处的误差"
   ]
  },
  {
   "cell_type": "code",
   "execution_count": 1,
   "id": "da198257-982c-482d-9fb0-b6d6aba54c23",
   "metadata": {},
   "outputs": [],
   "source": [
    "item = 'random_10_64_3'"
   ]
  },
  {
   "cell_type": "code",
   "execution_count": 2,
   "id": "62d7146f-9e16-431f-a782-2408682e9f7a",
   "metadata": {},
   "outputs": [],
   "source": [
    "import os\n",
    "import numpy as np\n",
    "import matplotlib.pyplot as plt\n",
    "import matplotlib.colors as colors\n",
    "\n",
    "import scipy.io as scio\n",
    "import torch\n",
    "import torch.nn as nn\n",
    "from torchinfo import summary\n",
    "from timeit import default_timer\n",
    "import sys\n",
    "sys.path.append(\"../scripts/\")\n",
    "sys.path.append(\"../run/\")\n",
    "import yaml\n",
    "from utilities import *\n",
    "from deeponet_2d import *\n",
    "# from fourier_2d import *\n",
    "# device = torch.device('cuda:1' if torch.cuda.is_available() else 'cpu')\n",
    "device = torch.device('cpu')"
   ]
  },
  {
   "cell_type": "code",
   "execution_count": 3,
   "id": "0fc50328-ebd5-433d-904f-86a0f8a2b2ca",
   "metadata": {},
   "outputs": [],
   "source": [
    "with open( '../run/config.yml') as f:\n",
    "    config = yaml.full_load(f)\n",
    "config = config[item]\n",
    "\n",
    "TRAIN_PATH = config['TRAIN_PATH']\n",
    "TEST_PATH  = config['TEST_PATH']\n",
    "save_mode  = config['save_mode']\n",
    "save_step  = config['save_step']\n",
    "n_out      = config['n_out'] # rhoxy,phsxy,rhoyx,phsyx\n",
    "model_path = \"../model/\"+config['name']+ \"_\"+str(n_out) # save path and name of model\n",
    "model_path_temp = \"../temp/\"+config['name']+\"_\"+ str(n_out)\n",
    "log_path = \"../Log/\"+config['name']+\"_\"+str(n_out)+'.log'\n",
    "\n",
    "ntrain = config['ntrain']\n",
    "ntest  = config['ntest']\n",
    "\n",
    "batch_size = config['batch_size']\n",
    "learning_rate = 0.0001#config['learning_rate']\n",
    "\n",
    "epochs = config['epochs']\n",
    "step_size = config['step_size']\n",
    "gamma = config['gamma']\n",
    "\n",
    "modes = config['modes']\n",
    "width = config['width']\n",
    "\n",
    "s_train = config['s_train']\n",
    "r_train = config['r_train']\n",
    "s_test = config['s_test']\n",
    "r_test = config['r_test']\n",
    "layer_num = config['layer_num']\n",
    "last_size = config['last_size'] \n",
    "act_fno   = config['act_fno']\n",
    "\n",
    "layer_sizes = config['layer_sizes']+[s_train[0]*s_train[1]]\n",
    "act_func  = config['act_func']\n",
    "init_func = config['init_func']\n",
    "    \n",
    "\n",
    "patience = config['patience'] # if there is {patience} epoch that val_error is larger, early stop,\n",
    "thre_epoch = config['thre_epoch']# condiser early stop after {thre_epoch} epochs\n",
    "\n",
    "print_model_flag = config['print_model_flag'] # "
   ]
  },
  {
   "cell_type": "code",
   "execution_count": 4,
   "id": "5ccddcab-ff7f-41a9-b9b5-df1c9c4a727e",
   "metadata": {},
   "outputs": [
    {
     "name": "stdout",
     "output_type": "stream",
     "text": [
      "begin to read data\n",
      "reading finished in 11.146 s\n"
     ]
    }
   ],
   "source": [
    "loc_train,loc_test,train_loader, test_loader, x_normalizer,y_normalizer = \\\n",
    "get_batch_data(TRAIN_PATH, TEST_PATH, ntrain, ntest, r_train, s_train,r_test, s_test,batch_size,n_out)\n",
    "data   = scio.loadmat(TEST_PATH)\n",
    "zn     = data['zn'][0][::r_test[0]][:s_test[0]+1]\n",
    "yn     = data['yn'][0][::r_test[1]][:s_test[1]+1]\n",
    "freq   = data['freq'][0][::r_test[2]][:s_test[2]]\n",
    "ry     = data['obs'][0][::r_test[3]][:s_test[3]]"
   ]
  },
  {
   "cell_type": "raw",
   "id": "a77ee339-f486-4476-8b77-9544b795fc77",
   "metadata": {},
   "source": [
    "cuda_id = \"cuda:\"+str(config['cuda_id'])\n",
    "device = torch.device(cuda_id if torch.cuda.is_available() else \"cpu\")"
   ]
  },
  {
   "cell_type": "code",
   "execution_count": 5,
   "id": "e6fdcd1a-d517-47f7-88eb-d3c9bb73afe3",
   "metadata": {},
   "outputs": [],
   "source": [
    "if os.path.exists(model_path+'.pt'):\n",
    "    model=torch.load(model_path+'.pt',map_location=device)\n",
    "elif os.path.exists(model_path+'.pkl'):\n",
    "    model=deeponet(layer_sizes, act_func, init_func,modes, modes, width,\\\n",
    "        n_out,layer_num, last_size, act_fno).to(device)\n",
    "    model.load_state_dict(torch.load(model_path+'.pkl',map_location=device))\n",
    "else:\n",
    "    raise RuntimeError('no model file')\n",
    "myloss = LpLoss(size_average=False)"
   ]
  },
  {
   "cell_type": "raw",
   "id": "c2a83826-6fa6-48dc-beaf-e7788a6dd50c",
   "metadata": {},
   "source": [
    "\n",
    "y_normalizer.to(device)\n",
    "optimizer = Adam(model.parameters(), lr=learning_rate, weight_decay=1e-4)\n",
    "scheduler = torch.optim.lr_scheduler.StepLR(optimizer, step_size=step_size, gamma=gamma)\n",
    "log_file = open(log_path,'a+')\n",
    "t0 = default_timer()\n",
    "print(\"####################\")\n",
    "print(\"begin to train model\")\n",
    "run_train(model, batch_size,s_train,s_test,loc_train,loc_test,train_loader, test_loader, y_normalizer, myloss, optimizer, scheduler, 300, \\\n",
    "               200, patience, save_step,save_mode, model_path,model_path_temp, ntrain, ntest, device,log_file)\n",
    "\n",
    "tn = default_timer()\n",
    "print(f'all time:{tn-t0:.3f}s')\n",
    "print(f'# all time:{tn-t0:.3f}s',file=log_file)\n",
    "log_file.close()"
   ]
  },
  {
   "cell_type": "code",
   "execution_count": 6,
   "id": "609a544d-4090-403b-a2f0-89046546a76e",
   "metadata": {},
   "outputs": [
    {
     "name": "stdout",
     "output_type": "stream",
     "text": [
      "36.22261477075517 0.004816661228736242\n"
     ]
    }
   ],
   "source": [
    "\n",
    "\n",
    "model.eval()\n",
    "model.to(device)\n",
    "y_normalizer.to(device)\n",
    "test_l2 = 0.0\n",
    "# sample = next(iter(test_loader))\n",
    "t1 = default_timer()\n",
    "loc_test = loc_test.to(device)\n",
    "with torch.no_grad():\n",
    "    for x, y in test_loader:\n",
    "        x, y = x.to(device), y.to(device)\n",
    "\n",
    "        out = model(loc_test,x)#.reshape(batch_size, s[2],s[3],-1)\n",
    "        input_size = s_test[2]*s_test[3]\n",
    "        n_out = y.shape[-1]\n",
    "        out = torch.cat(([out[:,i*input_size:(i+1)*input_size].reshape(batch_size,s_test[2],s_test[3],-1) \\\n",
    "                for i in range(n_out)]),-1)\n",
    "        out = y_normalizer.decode(out)\n",
    "\n",
    "        test_l2 += myloss(out.reshape(batch_size,-1), y.reshape(batch_size,-1)).item()\n",
    "\n",
    "test_l2 /= ntest\n",
    "\n",
    "t2 = default_timer()\n",
    "print(t2-t1, test_l2)"
   ]
  },
  {
   "cell_type": "code",
   "execution_count": 7,
   "id": "3f36a853-36ec-41a6-a547-c423f3d1cd5b",
   "metadata": {},
   "outputs": [],
   "source": [
    "interval, num = 7, 10"
   ]
  },
  {
   "cell_type": "code",
   "execution_count": 8,
   "id": "70ae05bf-31a7-4df1-9321-bca7774ced00",
   "metadata": {},
   "outputs": [
    {
     "name": "stdout",
     "output_type": "stream",
     "text": [
      "33.353832721710205 0.0040711781183878585\n"
     ]
    }
   ],
   "source": [
    "# label data\n",
    "\n",
    "model.eval()\n",
    "model.to(device)\n",
    "y_normalizer.to(device)\n",
    "test_l2 = 0.0\n",
    "# sample = next(iter(test_loader))\n",
    "t1 = default_timer()\n",
    "loc_test = loc_test.to(device)\n",
    "with torch.no_grad():\n",
    "    for x, y in test_loader:\n",
    "        x, y = x.to(device), y.to(device)\n",
    "\n",
    "        out = model(loc_test,x)#.reshape(batch_size, s[2],s[3],-1)\n",
    "        input_size = s_test[2]*s_test[3]\n",
    "        n_out = y.shape[-1]\n",
    "        out = torch.cat(([out[:,i*input_size:(i+1)*input_size].reshape(batch_size,s_test[2],s_test[3],-1) \\\n",
    "                for i in range(n_out)]),-1)\n",
    "        out = y_normalizer.decode(out)\n",
    "\n",
    "        test_l2 += myloss(out[:,::interval,:,:][:,:num,:,:].reshape(batch_size,-1),\\\n",
    "                            y[:,::interval,:,:][:,:num,:,:].reshape(batch_size,-1)).item()\n",
    "\n",
    "test_l2 /= ntest\n",
    "\n",
    "t2 = default_timer()\n",
    "print(t2-t1, test_l2)"
   ]
  },
  {
   "cell_type": "code",
   "execution_count": 9,
   "id": "94667c4c-2967-4c57-8c73-5eef73565192",
   "metadata": {},
   "outputs": [
    {
     "data": {
      "text/plain": [
       "torch.Size([50, 10, 64, 4])"
      ]
     },
     "execution_count": 9,
     "metadata": {},
     "output_type": "execute_result"
    }
   ],
   "source": [
    "y[:,::7,:,:][:,:,:,:].shape"
   ]
  },
  {
   "cell_type": "code",
   "execution_count": 10,
   "id": "4be23924-e7ea-47d8-8ae2-bd0e1ad20f25",
   "metadata": {},
   "outputs": [
    {
     "name": "stdout",
     "output_type": "stream",
     "text": [
      "35.33319640904665 0.004938789998491605\n"
     ]
    }
   ],
   "source": [
    "# inner interpretation\n",
    "\n",
    "model.eval()\n",
    "model.to(device)\n",
    "y_normalizer.to(device)\n",
    "test_l2 = 0.0\n",
    "# sample = next(iter(test_loader))\n",
    "t1 = default_timer()\n",
    "loc_test = loc_test.to(device)\n",
    "with torch.no_grad():\n",
    "    for x, y in test_loader:\n",
    "        x, y = x.to(device), y.to(device)\n",
    "\n",
    "        out = model(loc_test,x)#.reshape(batch_size, s[2],s[3],-1)\n",
    "        input_size = s_test[2]*s_test[3]\n",
    "        n_out = y.shape[-1]\n",
    "        out = torch.cat(([out[:,i*input_size:(i+1)*input_size].reshape(batch_size,s_test[2],s_test[3],-1) \\\n",
    "                for i in range(n_out)]),-1)\n",
    "        out = y_normalizer.decode(out)\n",
    "        \n",
    "        out0 = out[:,torch.arange(out.shape[1])%interval!=0,:,:]\n",
    "        out1 = out0#[:,:,torch.arange(out0.shape[2])%interval!=0,:]\n",
    "        \n",
    "        y0 = y[:,torch.arange(y.shape[1])%interval!=0,:,:]\n",
    "        y1 = y0#[:,:,torch.arange(y0.shape[2])%interval!=0,:]\n",
    "\n",
    "        test_l2 += myloss(out1.reshape(batch_size,-1), y1.reshape(batch_size,-1)).item()\n",
    "\n",
    "test_l2 /= ntest\n",
    "\n",
    "t2 = default_timer()\n",
    "print(t2-t1, test_l2)"
   ]
  },
  {
   "cell_type": "code",
   "execution_count": null,
   "id": "532a7eb5-774f-42a5-b795-cf4924bd8bb3",
   "metadata": {},
   "outputs": [],
   "source": []
  }
 ],
 "metadata": {
  "kernelspec": {
   "display_name": "FNO",
   "language": "python",
   "name": "fno"
  },
  "language_info": {
   "codemirror_mode": {
    "name": "ipython",
    "version": 3
   },
   "file_extension": ".py",
   "mimetype": "text/x-python",
   "name": "python",
   "nbconvert_exporter": "python",
   "pygments_lexer": "ipython3",
   "version": "3.9.6"
  }
 },
 "nbformat": 4,
 "nbformat_minor": 5
}
